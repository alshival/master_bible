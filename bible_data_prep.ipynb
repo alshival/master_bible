{
 "cells": [
  {
   "cell_type": "markdown",
   "id": "f1785feb-c190-4d1d-9cfc-c3feb86fd118",
   "metadata": {},
   "source": [
    "# Master Bible Data Prep"
   ]
  },
  {
   "cell_type": "markdown",
   "id": "f6d8813c-e3f4-4ae1-a2b6-cf8ed905f4bd",
   "metadata": {},
   "source": [
    "This notebook is used to create the master_bible dataset. Data is first put together as a pandas Dataframe, then converted into various formats.\n",
    "\n",
    "You need the following python packages:"
   ]
  },
  {
   "cell_type": "code",
   "execution_count": 1,
   "id": "b7ca7066-4a5c-43a6-aa15-7c4bfbc94126",
   "metadata": {},
   "outputs": [],
   "source": [
    "import os\n",
    "import pandas as pd\n",
    "import regex as re\n",
    "import csv\n",
    "import sqlite3"
   ]
  },
  {
   "cell_type": "markdown",
   "id": "f1e94049-de2d-4e55-9f7b-c9b09e957b8a",
   "metadata": {},
   "source": [
    "If your working directory is the top-level directory of the github repository, then this code will fetch the filenames for the csvs stored in the `bible_csvs` folder"
   ]
  },
  {
   "cell_type": "code",
   "execution_count": 2,
   "id": "eac1d8d3-161c-40c5-bc53-d06151a21675",
   "metadata": {},
   "outputs": [
    {
     "data": {
      "text/plain": [
       "['AMP.csv',\n",
       " 'NKJV.csv',\n",
       " 'KJV.csv',\n",
       " 'NASB.csv',\n",
       " 'NIV.csv',\n",
       " 'ESV.csv',\n",
       " 'KSGM.tsv']"
      ]
     },
     "execution_count": 2,
     "metadata": {},
     "output_type": "execute_result"
    }
   ],
   "source": [
    "bible_dir = \"bible_csvs/\"\n",
    "bible_csvs = os.listdir(bible_dir)\n",
    "bible_csvs"
   ]
  },
  {
   "cell_type": "markdown",
   "id": "8c2208cf-031f-47a9-8310-fa9ad8027d64",
   "metadata": {},
   "source": [
    "The CSV files were downloaded from [here](http://my-bible-study.appspot.com/).\n",
    "\n",
    "The `book_index.txt` file contains more information about the chapters than what is provided in the CSV files we downloaded. We import it and join the information when we import."
   ]
  },
  {
   "cell_type": "code",
   "execution_count": 3,
   "id": "e88aa40b-43cb-4a2c-be32-f5bd7f4042c2",
   "metadata": {},
   "outputs": [],
   "source": [
    "bible_index = pd.read_csv('metadata/book_index.txt',names=['book','osisID','title','total_chapters','testament'],skiprows=1)"
   ]
  },
  {
   "cell_type": "markdown",
   "id": "b8401d2a-7e84-45ff-b03b-39ce3588e6cf",
   "metadata": {},
   "source": [
    "This function is used to import the files. Note that the `if/else` statement is used to take care of the `.tsv` file in the directory."
   ]
  },
  {
   "cell_type": "code",
   "execution_count": 4,
   "id": "84a84bb0-f779-4474-b62f-3f6534c398fd",
   "metadata": {},
   "outputs": [],
   "source": [
    "def import_bible(filename):\n",
    "    if filename == 'KSGM.tsv':\n",
    "        dat = pd.read_csv(bible_dir+filename,\n",
    "                          sep='\\t',\n",
    "                          names=['book','chapter','verse','text'],\n",
    "                          header=None)\n",
    "        dat['version'] = re.sub('\\\\.tsv','', filename)\n",
    "    else:\n",
    "        dat = pd.read_csv( bible_dir + filename,\n",
    "                          lineterminator='\\n',\n",
    "                          header=None, \n",
    "                          names=['book','chapter','verse','text'], \n",
    "                          escapechar='\\\\')\n",
    "        dat['version'] = re.sub('\\\\.csv','', filename)\n",
    "    \n",
    "    dat = bible_index[['testament','book','title']].merge(dat,on=['book'])\n",
    "    dat = dat\n",
    "    \n",
    "    return dat "
   ]
  },
  {
   "cell_type": "markdown",
   "id": "ba6f1e5c-585c-43ec-a2f5-d59f4d451b10",
   "metadata": {},
   "source": [
    "Here, we generate the master bible dataset."
   ]
  },
  {
   "cell_type": "code",
   "execution_count": 5,
   "id": "b01baf8c-d277-4430-9560-7031aad4b820",
   "metadata": {},
   "outputs": [],
   "source": [
    "master_bible = pd.concat(pd.Series(bible_csvs).apply(import_bible).tolist(),axis=0).reset_index(drop=True).astype({'book':'int64','title':'string','chapter':'int64','verse':'int64','text':'string','version':'string'})"
   ]
  },
  {
   "cell_type": "code",
   "execution_count": 6,
   "id": "1a0ce92d-e53c-4c3d-a581-7662e559f620",
   "metadata": {},
   "outputs": [
    {
     "data": {
      "text/html": [
       "<div>\n",
       "<style scoped>\n",
       "    .dataframe tbody tr th:only-of-type {\n",
       "        vertical-align: middle;\n",
       "    }\n",
       "\n",
       "    .dataframe tbody tr th {\n",
       "        vertical-align: top;\n",
       "    }\n",
       "\n",
       "    .dataframe thead th {\n",
       "        text-align: right;\n",
       "    }\n",
       "</style>\n",
       "<table border=\"1\" class=\"dataframe\">\n",
       "  <thead>\n",
       "    <tr style=\"text-align: right;\">\n",
       "      <th></th>\n",
       "      <th>testament</th>\n",
       "      <th>book</th>\n",
       "      <th>title</th>\n",
       "      <th>chapter</th>\n",
       "      <th>verse</th>\n",
       "      <th>text</th>\n",
       "      <th>version</th>\n",
       "    </tr>\n",
       "  </thead>\n",
       "  <tbody>\n",
       "    <tr>\n",
       "      <th>0</th>\n",
       "      <td>OT</td>\n",
       "      <td>1</td>\n",
       "      <td>Genesis</td>\n",
       "      <td>1</td>\n",
       "      <td>1</td>\n",
       "      <td>IN THE beginning God (prepared formed fashione...</td>\n",
       "      <td>AMP</td>\n",
       "    </tr>\n",
       "    <tr>\n",
       "      <th>1</th>\n",
       "      <td>OT</td>\n",
       "      <td>1</td>\n",
       "      <td>Genesis</td>\n",
       "      <td>1</td>\n",
       "      <td>2</td>\n",
       "      <td>The earth was without form and an empty waste ...</td>\n",
       "      <td>AMP</td>\n",
       "    </tr>\n",
       "    <tr>\n",
       "      <th>2</th>\n",
       "      <td>OT</td>\n",
       "      <td>1</td>\n",
       "      <td>Genesis</td>\n",
       "      <td>1</td>\n",
       "      <td>3</td>\n",
       "      <td>And God said Let there be light; and there was...</td>\n",
       "      <td>AMP</td>\n",
       "    </tr>\n",
       "    <tr>\n",
       "      <th>3</th>\n",
       "      <td>OT</td>\n",
       "      <td>1</td>\n",
       "      <td>Genesis</td>\n",
       "      <td>1</td>\n",
       "      <td>4</td>\n",
       "      <td>And God saw that the light was good (suitable ...</td>\n",
       "      <td>AMP</td>\n",
       "    </tr>\n",
       "    <tr>\n",
       "      <th>4</th>\n",
       "      <td>OT</td>\n",
       "      <td>1</td>\n",
       "      <td>Genesis</td>\n",
       "      <td>1</td>\n",
       "      <td>5</td>\n",
       "      <td>And God called the light Day and the darkness ...</td>\n",
       "      <td>AMP</td>\n",
       "    </tr>\n",
       "    <tr>\n",
       "      <th>...</th>\n",
       "      <td>...</td>\n",
       "      <td>...</td>\n",
       "      <td>...</td>\n",
       "      <td>...</td>\n",
       "      <td>...</td>\n",
       "      <td>...</td>\n",
       "      <td>...</td>\n",
       "    </tr>\n",
       "    <tr>\n",
       "      <th>186712</th>\n",
       "      <td>NT</td>\n",
       "      <td>777</td>\n",
       "      <td>Gospel of Mary Magdalene</td>\n",
       "      <td>4</td>\n",
       "      <td>105</td>\n",
       "      <td>and take in the purest human form that we acqu...</td>\n",
       "      <td>KSGM</td>\n",
       "    </tr>\n",
       "    <tr>\n",
       "      <th>186713</th>\n",
       "      <td>NT</td>\n",
       "      <td>777</td>\n",
       "      <td>Gospel of Mary Magdalene</td>\n",
       "      <td>4</td>\n",
       "      <td>106</td>\n",
       "      <td>like He commanded us.</td>\n",
       "      <td>KSGM</td>\n",
       "    </tr>\n",
       "    <tr>\n",
       "      <th>186714</th>\n",
       "      <td>NT</td>\n",
       "      <td>777</td>\n",
       "      <td>Gospel of Mary Magdalene</td>\n",
       "      <td>4</td>\n",
       "      <td>107</td>\n",
       "      <td>We are to preach the gospel and not lay down a...</td>\n",
       "      <td>KSGM</td>\n",
       "    </tr>\n",
       "    <tr>\n",
       "      <th>186715</th>\n",
       "      <td>NT</td>\n",
       "      <td>777</td>\n",
       "      <td>Gospel of Mary Magdalene</td>\n",
       "      <td>4</td>\n",
       "      <td>108</td>\n",
       "      <td>After Levi had said these things, they left an...</td>\n",
       "      <td>KSGM</td>\n",
       "    </tr>\n",
       "    <tr>\n",
       "      <th>186716</th>\n",
       "      <td>NT</td>\n",
       "      <td>777</td>\n",
       "      <td>Gospel of Mary Magdalene</td>\n",
       "      <td>4</td>\n",
       "      <td>109</td>\n",
       "      <td>King Samuel's The Gospel of Mary Magdalene</td>\n",
       "      <td>KSGM</td>\n",
       "    </tr>\n",
       "  </tbody>\n",
       "</table>\n",
       "<p>186717 rows × 7 columns</p>\n",
       "</div>"
      ],
      "text/plain": [
       "       testament  book                     title  chapter  verse  \\\n",
       "0             OT     1                   Genesis        1      1   \n",
       "1             OT     1                   Genesis        1      2   \n",
       "2             OT     1                   Genesis        1      3   \n",
       "3             OT     1                   Genesis        1      4   \n",
       "4             OT     1                   Genesis        1      5   \n",
       "...          ...   ...                       ...      ...    ...   \n",
       "186712        NT   777  Gospel of Mary Magdalene        4    105   \n",
       "186713        NT   777  Gospel of Mary Magdalene        4    106   \n",
       "186714        NT   777  Gospel of Mary Magdalene        4    107   \n",
       "186715        NT   777  Gospel of Mary Magdalene        4    108   \n",
       "186716        NT   777  Gospel of Mary Magdalene        4    109   \n",
       "\n",
       "                                                     text version  \n",
       "0       IN THE beginning God (prepared formed fashione...     AMP  \n",
       "1       The earth was without form and an empty waste ...     AMP  \n",
       "2       And God said Let there be light; and there was...     AMP  \n",
       "3       And God saw that the light was good (suitable ...     AMP  \n",
       "4       And God called the light Day and the darkness ...     AMP  \n",
       "...                                                   ...     ...  \n",
       "186712  and take in the purest human form that we acqu...    KSGM  \n",
       "186713                              like He commanded us.    KSGM  \n",
       "186714  We are to preach the gospel and not lay down a...    KSGM  \n",
       "186715  After Levi had said these things, they left an...    KSGM  \n",
       "186716         King Samuel's The Gospel of Mary Magdalene    KSGM  \n",
       "\n",
       "[186717 rows x 7 columns]"
      ]
     },
     "execution_count": 6,
     "metadata": {},
     "output_type": "execute_result"
    }
   ],
   "source": [
    "master_bible"
   ]
  },
  {
   "cell_type": "code",
   "execution_count": 7,
   "id": "df326a4d-aa4b-4025-b031-7b4c113d2711",
   "metadata": {},
   "outputs": [
    {
     "data": {
      "text/plain": [
       "testament    object\n",
       "book          int64\n",
       "title        string\n",
       "chapter       int64\n",
       "verse         int64\n",
       "text         string\n",
       "version      string\n",
       "dtype: object"
      ]
     },
     "execution_count": 7,
     "metadata": {},
     "output_type": "execute_result"
    }
   ],
   "source": [
    "master_bible.dtypes"
   ]
  },
  {
   "cell_type": "markdown",
   "id": "ceeb2807-33a1-482a-8cdb-7cbc7871f02a",
   "metadata": {},
   "source": [
    "Now we save as various formats."
   ]
  },
  {
   "cell_type": "code",
   "execution_count": 8,
   "id": "422312d6-e7bd-4f47-9762-efc149aa7e34",
   "metadata": {},
   "outputs": [],
   "source": [
    "output_dir = 'MASTER_BIBLE/'\n",
    "master_bible.to_pickle(output_dir + 'master_bible.pkl')"
   ]
  },
  {
   "cell_type": "code",
   "execution_count": 9,
   "id": "fe3a42ac-a531-4ef3-946c-e839fa39bdd7",
   "metadata": {},
   "outputs": [],
   "source": [
    "master_bible.to_csv(output_dir + 'master_bible.csv',index=False,quoting=csv.QUOTE_NONNUMERIC)"
   ]
  },
  {
   "cell_type": "code",
   "execution_count": 20,
   "id": "17285391-6911-408f-a87a-49410866060d",
   "metadata": {},
   "outputs": [],
   "source": [
    "conn = sqlite3.connect(output_dir + 'master_bible.db')"
   ]
  },
  {
   "cell_type": "code",
   "execution_count": 19,
   "id": "e1bdb291-f220-445b-9cea-97392d7fcc3a",
   "metadata": {},
   "outputs": [],
   "source": [
    "master_bible.to_sql('master_bible',con=conn,if_exists='replace')\n",
    "tbls = pd.Series(bible_csvs).apply(lambda x: re.sub('\\\\..*','',x)).tolist()\n",
    "\n",
    "for i in tbls:\n",
    "    conn.execute(f\"\"\"\n",
    "    CREATE VIEW {i} AS\n",
    "    select * from master_bible\n",
    "    where version = '{i}'\n",
    "    \"\"\")\n",
    "    \n",
    "conn.close()"
   ]
  }
 ],
 "metadata": {
  "kernelspec": {
   "display_name": "Python 3 (ipykernel)",
   "language": "python",
   "name": "python3"
  },
  "language_info": {
   "codemirror_mode": {
    "name": "ipython",
    "version": 3
   },
   "file_extension": ".py",
   "mimetype": "text/x-python",
   "name": "python",
   "nbconvert_exporter": "python",
   "pygments_lexer": "ipython3",
   "version": "3.9.2"
  }
 },
 "nbformat": 4,
 "nbformat_minor": 5
}
