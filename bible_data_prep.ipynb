{
 "cells": [
  {
   "cell_type": "markdown",
   "id": "f1785feb-c190-4d1d-9cfc-c3feb86fd118",
   "metadata": {},
   "source": [
    "# `super_bible` Data Prep"
   ]
  },
  {
   "cell_type": "markdown",
   "id": "f6d8813c-e3f4-4ae1-a2b6-cf8ed905f4bd",
   "metadata": {},
   "source": [
    "This notebook is used to create the `super_bible` dataset. Data is first put together as a pandas dataframe, then converted into various formats.\n",
    "\n",
    "You need the following python packages:"
   ]
  },
  {
   "cell_type": "code",
   "execution_count": 1,
   "id": "b7ca7066-4a5c-43a6-aa15-7c4bfbc94126",
   "metadata": {},
   "outputs": [],
   "source": [
    "import os\n",
    "import pandas as pd\n",
    "import regex as re\n",
    "import csv\n",
    "import sqlite3"
   ]
  },
  {
   "cell_type": "markdown",
   "id": "f1e94049-de2d-4e55-9f7b-c9b09e957b8a",
   "metadata": {},
   "source": [
    "If your working directory is the top-level directory of the github repository, then this code will fetch the filenames for the csvs stored in the `zraw_data` folder"
   ]
  },
  {
   "cell_type": "code",
   "execution_count": 2,
   "id": "eac1d8d3-161c-40c5-bc53-d06151a21675",
   "metadata": {},
   "outputs": [
    {
     "data": {
      "text/plain": [
       "['EN', 'ES']"
      ]
     },
     "execution_count": 2,
     "metadata": {},
     "output_type": "execute_result"
    }
   ],
   "source": [
    "zraw_dir = \"zraw_data/\"\n",
    "languages = os.listdir(zraw_dir)\n",
    "languages"
   ]
  },
  {
   "cell_type": "markdown",
   "id": "8c2208cf-031f-47a9-8310-fa9ad8027d64",
   "metadata": {},
   "source": [
    "The CSV files were downloaded from [here](http://my-bible-study.appspot.com/).\n",
    "\n",
    "The `book_index.txt` file contains more information about the chapters than what is provided in the CSV files we downloaded. This function imports the correct index file depending on the language."
   ]
  },
  {
   "cell_type": "code",
   "execution_count": 3,
   "id": "b46b3819-3d78-4a0a-886a-292e721d3c75",
   "metadata": {},
   "outputs": [],
   "source": [
    "def bible_index(language):\n",
    "    return pd.read_csv(f'zraw_metadata/{language}_book_index.txt',names=['book','osisID','title','total_chapters','testament'],skiprows=1)"
   ]
  },
  {
   "cell_type": "markdown",
   "id": "b8401d2a-7e84-45ff-b03b-39ce3588e6cf",
   "metadata": {},
   "source": [
    "This is the backbone of the import. It will import the .csv/.tsv files and prep the data."
   ]
  },
  {
   "cell_type": "code",
   "execution_count": 4,
   "id": "84a84bb0-f779-4474-b62f-3f6534c398fd",
   "metadata": {},
   "outputs": [],
   "source": [
    "def import_bible(filename,language='EN'):\n",
    "    if not (re.search('\\\\.tsv',filename)==None):\n",
    "        dat = pd.read_csv(f'{zraw_dir}{language}/{filename}',\n",
    "                          sep='\\t',\n",
    "                          names=['book','chapter','verse','text'],\n",
    "                          header=None)\n",
    "        dat['version'] = re.sub('\\\\.tsv','', filename)\n",
    "    else:\n",
    "        dat = pd.read_csv(f'{zraw_dir}{language}/{filename}',\n",
    "                          lineterminator='\\n',\n",
    "                          header=None, \n",
    "                          names=['book','chapter','verse','text'], \n",
    "                          escapechar='\\\\')\n",
    "        dat['version'] = re.sub('\\\\.csv','', filename)\n",
    "    \n",
    "    dat = bible_index(language)[['testament','book','title']].merge(dat,on=['book'])\n",
    "    dat['language']=language\n",
    "    dat = dat\n",
    "    \n",
    "    return dat "
   ]
  },
  {
   "cell_type": "markdown",
   "id": "ba6f1e5c-585c-43ec-a2f5-d59f4d451b10",
   "metadata": {},
   "source": [
    "Here, we generate the `super_bible` dataset. We import by language so that we know which title to use."
   ]
  },
  {
   "cell_type": "code",
   "execution_count": 5,
   "id": "370fb10e-a7b2-4a58-a0f3-fbf490a8f725",
   "metadata": {},
   "outputs": [],
   "source": [
    "sb = []\n",
    "for language in languages:\n",
    "    csvs = pd.Series([(file,language) for file in os.listdir(zraw_dir + language)])\n",
    "    sb = sb + [import_bible(*csv) for csv in csvs]\n",
    "\n",
    "super_bible = pd.concat(sb,axis = 0).astype({'testament':'string','title':'string','text':'string','version':'string','language':'string'})"
   ]
  },
  {
   "cell_type": "code",
   "execution_count": 6,
   "id": "efc44d38-8905-459b-9141-d19f655a9310",
   "metadata": {},
   "outputs": [
    {
     "data": {
      "text/html": [
       "<div>\n",
       "<style scoped>\n",
       "    .dataframe tbody tr th:only-of-type {\n",
       "        vertical-align: middle;\n",
       "    }\n",
       "\n",
       "    .dataframe tbody tr th {\n",
       "        vertical-align: top;\n",
       "    }\n",
       "\n",
       "    .dataframe thead th {\n",
       "        text-align: right;\n",
       "    }\n",
       "</style>\n",
       "<table border=\"1\" class=\"dataframe\">\n",
       "  <thead>\n",
       "    <tr style=\"text-align: right;\">\n",
       "      <th></th>\n",
       "      <th>testament</th>\n",
       "      <th>book</th>\n",
       "      <th>title</th>\n",
       "      <th>chapter</th>\n",
       "      <th>verse</th>\n",
       "      <th>text</th>\n",
       "      <th>version</th>\n",
       "      <th>language</th>\n",
       "    </tr>\n",
       "  </thead>\n",
       "  <tbody>\n",
       "    <tr>\n",
       "      <th>0</th>\n",
       "      <td>OT</td>\n",
       "      <td>1</td>\n",
       "      <td>Genesis</td>\n",
       "      <td>1</td>\n",
       "      <td>1</td>\n",
       "      <td>IN THE beginning God (prepared formed fashione...</td>\n",
       "      <td>AMP</td>\n",
       "      <td>EN</td>\n",
       "    </tr>\n",
       "    <tr>\n",
       "      <th>1</th>\n",
       "      <td>OT</td>\n",
       "      <td>1</td>\n",
       "      <td>Genesis</td>\n",
       "      <td>1</td>\n",
       "      <td>2</td>\n",
       "      <td>The earth was without form and an empty waste ...</td>\n",
       "      <td>AMP</td>\n",
       "      <td>EN</td>\n",
       "    </tr>\n",
       "    <tr>\n",
       "      <th>2</th>\n",
       "      <td>OT</td>\n",
       "      <td>1</td>\n",
       "      <td>Genesis</td>\n",
       "      <td>1</td>\n",
       "      <td>3</td>\n",
       "      <td>And God said Let there be light; and there was...</td>\n",
       "      <td>AMP</td>\n",
       "      <td>EN</td>\n",
       "    </tr>\n",
       "    <tr>\n",
       "      <th>3</th>\n",
       "      <td>OT</td>\n",
       "      <td>1</td>\n",
       "      <td>Genesis</td>\n",
       "      <td>1</td>\n",
       "      <td>4</td>\n",
       "      <td>And God saw that the light was good (suitable ...</td>\n",
       "      <td>AMP</td>\n",
       "      <td>EN</td>\n",
       "    </tr>\n",
       "    <tr>\n",
       "      <th>4</th>\n",
       "      <td>OT</td>\n",
       "      <td>1</td>\n",
       "      <td>Genesis</td>\n",
       "      <td>1</td>\n",
       "      <td>5</td>\n",
       "      <td>And God called the light Day and the darkness ...</td>\n",
       "      <td>AMP</td>\n",
       "      <td>EN</td>\n",
       "    </tr>\n",
       "    <tr>\n",
       "      <th>...</th>\n",
       "      <td>...</td>\n",
       "      <td>...</td>\n",
       "      <td>...</td>\n",
       "      <td>...</td>\n",
       "      <td>...</td>\n",
       "      <td>...</td>\n",
       "      <td>...</td>\n",
       "      <td>...</td>\n",
       "    </tr>\n",
       "    <tr>\n",
       "      <th>118</th>\n",
       "      <td>NT</td>\n",
       "      <td>777</td>\n",
       "      <td>Evangelio de Maria Magdalena</td>\n",
       "      <td>4</td>\n",
       "      <td>119</td>\n",
       "      <td>como él nos mandó.</td>\n",
       "      <td>RSEM</td>\n",
       "      <td>ES</td>\n",
       "    </tr>\n",
       "    <tr>\n",
       "      <th>119</th>\n",
       "      <td>NT</td>\n",
       "      <td>777</td>\n",
       "      <td>Evangelio de Maria Magdalena</td>\n",
       "      <td>4</td>\n",
       "      <td>120</td>\n",
       "      <td>Debemos predicar el evangelio y no establecer ...</td>\n",
       "      <td>RSEM</td>\n",
       "      <td>ES</td>\n",
       "    </tr>\n",
       "    <tr>\n",
       "      <th>120</th>\n",
       "      <td>NT</td>\n",
       "      <td>777</td>\n",
       "      <td>Evangelio de Maria Magdalena</td>\n",
       "      <td>4</td>\n",
       "      <td>121</td>\n",
       "      <td>&lt;NA&gt;</td>\n",
       "      <td>RSEM</td>\n",
       "      <td>ES</td>\n",
       "    </tr>\n",
       "    <tr>\n",
       "      <th>121</th>\n",
       "      <td>NT</td>\n",
       "      <td>777</td>\n",
       "      <td>Evangelio de Maria Magdalena</td>\n",
       "      <td>4</td>\n",
       "      <td>122</td>\n",
       "      <td>Después que Levi termino de hablar, se fueron ...</td>\n",
       "      <td>RSEM</td>\n",
       "      <td>ES</td>\n",
       "    </tr>\n",
       "    <tr>\n",
       "      <th>122</th>\n",
       "      <td>NT</td>\n",
       "      <td>777</td>\n",
       "      <td>Evangelio de Maria Magdalena</td>\n",
       "      <td>4</td>\n",
       "      <td>123</td>\n",
       "      <td>Rey Samuel's El Evangelio de Maria</td>\n",
       "      <td>RSEM</td>\n",
       "      <td>ES</td>\n",
       "    </tr>\n",
       "  </tbody>\n",
       "</table>\n",
       "<p>186840 rows × 8 columns</p>\n",
       "</div>"
      ],
      "text/plain": [
       "    testament  book                         title  chapter  verse  \\\n",
       "0          OT     1                       Genesis        1      1   \n",
       "1          OT     1                       Genesis        1      2   \n",
       "2          OT     1                       Genesis        1      3   \n",
       "3          OT     1                       Genesis        1      4   \n",
       "4          OT     1                       Genesis        1      5   \n",
       "..        ...   ...                           ...      ...    ...   \n",
       "118        NT   777  Evangelio de Maria Magdalena        4    119   \n",
       "119        NT   777  Evangelio de Maria Magdalena        4    120   \n",
       "120        NT   777  Evangelio de Maria Magdalena        4    121   \n",
       "121        NT   777  Evangelio de Maria Magdalena        4    122   \n",
       "122        NT   777  Evangelio de Maria Magdalena        4    123   \n",
       "\n",
       "                                                  text version language  \n",
       "0    IN THE beginning God (prepared formed fashione...     AMP       EN  \n",
       "1    The earth was without form and an empty waste ...     AMP       EN  \n",
       "2    And God said Let there be light; and there was...     AMP       EN  \n",
       "3    And God saw that the light was good (suitable ...     AMP       EN  \n",
       "4    And God called the light Day and the darkness ...     AMP       EN  \n",
       "..                                                 ...     ...      ...  \n",
       "118                                 como él nos mandó.    RSEM       ES  \n",
       "119  Debemos predicar el evangelio y no establecer ...    RSEM       ES  \n",
       "120                                               <NA>    RSEM       ES  \n",
       "121  Después que Levi termino de hablar, se fueron ...    RSEM       ES  \n",
       "122                 Rey Samuel's El Evangelio de Maria    RSEM       ES  \n",
       "\n",
       "[186840 rows x 8 columns]"
      ]
     },
     "execution_count": 6,
     "metadata": {},
     "output_type": "execute_result"
    }
   ],
   "source": [
    "super_bible"
   ]
  },
  {
   "cell_type": "code",
   "execution_count": 7,
   "id": "df326a4d-aa4b-4025-b031-7b4c113d2711",
   "metadata": {},
   "outputs": [
    {
     "data": {
      "text/plain": [
       "testament    string\n",
       "book          int64\n",
       "title        string\n",
       "chapter       int64\n",
       "verse         int64\n",
       "text         string\n",
       "version      string\n",
       "language     string\n",
       "dtype: object"
      ]
     },
     "execution_count": 7,
     "metadata": {},
     "output_type": "execute_result"
    }
   ],
   "source": [
    "super_bible.dtypes"
   ]
  },
  {
   "cell_type": "markdown",
   "id": "ceeb2807-33a1-482a-8cdb-7cbc7871f02a",
   "metadata": {},
   "source": [
    "Now we save as various formats."
   ]
  },
  {
   "cell_type": "markdown",
   "id": "13e52ad4-656b-4dbd-a6ce-ebcfe8985e00",
   "metadata": {},
   "source": [
    "## Export `super_bible` "
   ]
  },
  {
   "cell_type": "code",
   "execution_count": 8,
   "id": "b46c034f-e272-4150-afeb-f1e2680d4c9b",
   "metadata": {},
   "outputs": [],
   "source": [
    "output_dir = 'SUPER_BIBLE/'"
   ]
  },
  {
   "cell_type": "code",
   "execution_count": 9,
   "id": "422312d6-e7bd-4f47-9762-efc149aa7e34",
   "metadata": {},
   "outputs": [],
   "source": [
    "super_bible.to_pickle(output_dir + 'SUPER_BIBLE.pkl')"
   ]
  },
  {
   "cell_type": "code",
   "execution_count": 10,
   "id": "fe3a42ac-a531-4ef3-946c-e839fa39bdd7",
   "metadata": {},
   "outputs": [],
   "source": [
    "super_bible.to_csv(output_dir + 'SUPER_BIBLE.csv',index=False,quoting=csv.QUOTE_NONNUMERIC)"
   ]
  },
  {
   "cell_type": "markdown",
   "id": "4cd5d2a6-ef31-4234-9f93-b6facddf794e",
   "metadata": {},
   "source": [
    "### super_bible SQLite3"
   ]
  },
  {
   "cell_type": "code",
   "execution_count": 11,
   "id": "e1bdb291-f220-445b-9cea-97392d7fcc3a",
   "metadata": {},
   "outputs": [],
   "source": [
    "conn = sqlite3.connect(output_dir + 'SUPER_BIBLE.db')\n",
    "\n",
    "super_bible.to_sql('super_bible',con=conn,if_exists='replace')\n",
    "\n",
    "bible_csvs=[]\n",
    "for language in languages:\n",
    "    bible_csvs = bible_csvs + os.listdir(zraw_dir + language)\n",
    "\n",
    "tbls = pd.Series(bible_csvs).apply(lambda x: re.sub('\\\\..*','',x)).tolist()\n",
    "for i in tbls:\n",
    "    conn.execute(f\"\"\"\n",
    "    DROP VIEW IF EXISTS {i} \n",
    "    \"\"\")\n",
    "    conn.execute(f\"\"\"\n",
    "    CREATE VIEW {i} AS\n",
    "    select * from super_bible\n",
    "    where version = '{i}'\n",
    "    \"\"\")\n",
    "    \n",
    "conn.close()"
   ]
  },
  {
   "cell_type": "markdown",
   "id": "cbbfcccb-6c1d-4c15-ad11-1938e4339fb7",
   "metadata": {},
   "source": [
    "# Individual Translations"
   ]
  },
  {
   "cell_type": "code",
   "execution_count": 12,
   "id": "033fe90c-afbc-4ae4-bdce-9a1453677759",
   "metadata": {},
   "outputs": [],
   "source": [
    "for i in bible_csvs:\n",
    "    version = re.sub('\\\\..*','',i)\n",
    "    super_bible[super_bible['version']==version].to_csv(f'SUPER_BIBLE/SUPER_BIBLE_{version}.csv',index=False,quoting=csv.QUOTE_NONNUMERIC)\n",
    "    super_bible[super_bible['version']==version].to_pickle(f'SUPER_BIBLE/SUPER_BIBLE_{version}.pkl')"
   ]
  }
 ],
 "metadata": {
  "kernelspec": {
   "display_name": "Python 3 (ipykernel)",
   "language": "python",
   "name": "python3"
  },
  "language_info": {
   "codemirror_mode": {
    "name": "ipython",
    "version": 3
   },
   "file_extension": ".py",
   "mimetype": "text/x-python",
   "name": "python",
   "nbconvert_exporter": "python",
   "pygments_lexer": "ipython3",
   "version": "3.9.2"
  }
 },
 "nbformat": 4,
 "nbformat_minor": 5
}
